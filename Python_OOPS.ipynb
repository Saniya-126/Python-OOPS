{
  "nbformat": 4,
  "nbformat_minor": 0,
  "metadata": {
    "colab": {
      "provenance": []
    },
    "kernelspec": {
      "name": "python3",
      "display_name": "Python 3"
    },
    "language_info": {
      "name": "python"
    }
  },
  "cells": [
    {
      "cell_type": "markdown",
      "source": [
        "1. What is Object-Oriented Programming (OOP)?\n",
        "*  Object-Oriented Programming (OOP) is a programming paradigm that organizes code into classes and objects, promoting encapsulation, inheritance, polymorphism, and abstraction for modular, reusable, and maintainable software design.\n",
        "\n",
        "2. What is a class in OOP?\n",
        "*  A class in object-oriented programming (OOP) is a blueprint for creating objects that defines their properties and behaviors.\n",
        "\n",
        "3. What is an object in OOP?\n",
        "*  An object in object-oriented programming (OOP) is an instance of a class that represents a specific entity with its own state and behavior.\n",
        "\n",
        "4.  What is the difference between abstraction and encapsulation?\n",
        "*   Abstraction is the concept of hiding complex implementation details and showing only the essential features of an object, while encapsulation is the practice of bundling data and methods that operate on that data within a single unit (class) and restricting access to some of the object's components.\n",
        "\n",
        "5. What are dunder methods in Python?\n",
        "*  Dunder methods, short for \"double underscore\" methods, are special methods in Python that begin and end with double underscores (e.g., __init__, __str__) and are used to define the behavior of objects for built-in operations like initialization, string representation, and arithmetic.\n",
        "\n",
        "6. Explain the concept of inheritance in OOP?\n",
        "*  Inheritance in object-oriented programming (OOP) is a mechanism that allows a new class (called a subclass or derived class) to inherit properties and behaviors (attributes and methods) from an existing class (called a superclass or base class), promoting code reuse and establishing a hierarchical relationship between classes.\n",
        "\n",
        "7.  What is polymorphism in OOP?\n",
        "*  Polymorphism in object-oriented programming (OOP) is the ability of different classes to be treated as instances of the same class through a common interface, allowing methods to be used interchangeably, even if they are implemented differently in each class.\n",
        "\n",
        "8. How is encapsulation achieved in Python?\n",
        "*  Encapsulation in Python is achieved by using access modifiers to restrict access to certain attributes and methods of a class, typically by prefixing them with a single underscore (_) for protected members or double underscores (__) for private members, thereby controlling how they can be accessed and modified from outside the class.\n",
        "\n",
        "9. What is a constructor in Python?\n",
        "*  A constructor in Python is a special method called __init__ that is automatically invoked when an object of a class is created, allowing the class to initialize its attributes with specific values.\n",
        "\n",
        "10.  What are class and static methods in Python?\n",
        "*  Class methods in Python are defined with the @classmethod decorator and take the class itself as the first argument (usually named cls), allowing them to access class-level attributes and methods; static methods, defined with the @staticmethod decorator, do not take any special first argument and can be called on the class or an instance without needing access to class or instance-specific data.\n",
        "\n",
        "11. What is method overloading in Python?\n",
        "* Method overloading in Python refers to the ability to define multiple methods with the same name in a class, but with different parameters; however, Python does not support traditional method overloading like some other languages, so it typically uses default arguments or variable-length arguments to achieve similar functionality.\n",
        "\n",
        "12. What is method overriding in OOP?\n",
        "*  Method overriding in object-oriented programming (OOP) occurs when a subclass provides a specific implementation of a method that is already defined in its superclass, allowing the subclass to customize or extend the behavior of that method.\n",
        "\n",
        "13. What is a property decorator in Python?\n",
        "*  The property decorator in Python, defined using the @property decorator, allows you to define a method as a property, enabling you to access it like an attribute while still controlling its behavior through getter, setter, and deleter methods for encapsulation and validation.\n",
        "\n",
        "14. Why is polymorphism important in OOP?\n",
        "* Polymorphism is important in object-oriented programming (OOP) because it allows for flexibility and the ability to use a unified interface for different data types, enabling code reuse, easier maintenance, and the ability to write more generic and extensible code.\n",
        "\n",
        "15. What is an abstract class in Python?\n",
        "* An abstract class in Python is a class that cannot be instantiated and is defined using the abc module, typically containing one or more abstract methods that must be implemented by any subclass, serving as a blueprint for other classes.\n",
        "\n",
        "16. What are the advantages of OOP?\n",
        "* The advantages of OOP include encapsulation, inheritance, polymorphism, abstraction, and modularity, which enhance code reuse, flexibility, and maintainability.\n",
        "\n",
        "17. What is the difference between a class variable and an instance variable?\n",
        "* A class variable is shared among all instances of a class and is defined within the class but outside any instance methods, while an instance variable is unique to each instance of the class and is defined within instance methods, typically using self.\n",
        "\n",
        "18. What is multiple inheritance in Python?\n",
        "* Multiple inheritance in Python is a feature that allows a class to inherit attributes and methods from more than one parent class, enabling the creation of a new class that combines the functionality of multiple base classes.\n",
        "\n",
        "19.  Explain the purpose of ‘’__str__’ and ‘__repr__’ ‘ methods in Python?\n",
        "* The __str__ method in Python is used to define a human-readable string representation of an object, which is typically meant for display to end-users, while the __repr__ method is intended to provide an unambiguous string representation of the object, useful for debugging and development, and ideally should return a string that could be used to recreate the object.\n",
        "\n",
        "20. What is the significance of the ‘super()’ function in Python?\n",
        "*  The super() function in Python is used to call methods from a parent class in a subclass, allowing for method resolution order (MRO) to be respected, facilitating inheritance and enabling the reuse of code from the superclass while maintaining the correct initialization and behavior of the class hierarchy.\n",
        "\n",
        "21. What is the significance of the __del__ method in Python?\n",
        "* The __del__ method in Python is a destructor that is called when an object is about to be destroyed, allowing for cleanup actions such as releasing resources or closing files, although its use is generally discouraged due to the unpredictability of the timing of its invocation in relation to garbage collection.\n",
        "\n",
        "22. What is the difference between @staticmethod and @classmethod in Python?\n",
        "The @staticmethod decorator defines a method that does not take a reference to the instance or class (no self or cls parameter) and can be called on the class or instance without needing access to class or instance-specific data, while the @classmethod decorator defines a method that takes the class itself as the first argument (cls), allowing it to access class-level attributes and methods.\n",
        "\n",
        "23. How does polymorphism work in Python with inheritance?\n",
        "*  In Python, polymorphism works with inheritance by allowing subclasses to define methods with the same name as those in their parent class, enabling objects of different subclasses to be treated as instances of the parent class; when a method is called on a parent class reference, the appropriate subclass method is executed, allowing for dynamic method resolution based on the object's actual class.\n",
        "\n",
        "24.  What is method chaining in Python OOP?\n",
        "* Method chaining in Python OOP refers to the practice of calling multiple methods on the same object in a single statement, where each method returns the object itself (usually via self), allowing for a more concise and readable code style.\n",
        "\n",
        "25. What is the purpose of the __call__ method in Python?\n",
        "* The __call__ method in Python allows an instance of a class to be called as if it were a function. By defining this method, you can enable instances to execute specific behavior when called, providing a way to create callable objects that can maintain state and encapsulate functionality.\n",
        "\n",
        "\n",
        "\n"
      ],
      "metadata": {
        "id": "nf0qC4HURWpW"
      }
    },
    {
      "cell_type": "code",
      "execution_count": 1,
      "metadata": {
        "colab": {
          "base_uri": "https://localhost:8080/"
        },
        "id": "7_jcSvJcRUeb",
        "outputId": "f7e07aed-689e-44c6-9d53-ba76640af9a9"
      },
      "outputs": [
        {
          "output_type": "stream",
          "name": "stdout",
          "text": [
            "This animal makes a sound.\n",
            "Bark!\n"
          ]
        }
      ],
      "source": [
        "#Question 1\n",
        "# Parent class\n",
        "class Animal:\n",
        "    def speak(self):\n",
        "        print(\"This animal makes a sound.\")\n",
        "\n",
        "class Dog(Animal):\n",
        "    def speak(self):\n",
        "        print(\"Bark!\")\n",
        "\n",
        "if __name__ == \"__main__\":\n",
        "    animal = Animal()\n",
        "    animal.speak()\n",
        "\n",
        "    dog = Dog()\n",
        "    dog.speak()"
      ]
    },
    {
      "cell_type": "code",
      "source": [
        "#Question 2\n",
        "from abc import ABC, abstractmethod\n",
        "import math\n",
        "\n",
        "\n",
        "class Shape(ABC):\n",
        "    @abstractmethod\n",
        "    def area(self):\n",
        "        pass\n",
        "\n",
        "\n",
        "class Circle(Shape):\n",
        "    def __init__(self, radius):\n",
        "        self.radius = radius\n",
        "\n",
        "    def area(self):\n",
        "        return math.pi * (self.radius ** 2)\n",
        "\n",
        "\n",
        "class Rectangle(Shape):\n",
        "    def __init__(self, width, height):\n",
        "        self.width = width\n",
        "        self.height = height\n",
        "\n",
        "    def area(self):\n",
        "        return self.width * self.height\n",
        "\n",
        "\n",
        "circle = Circle(5)\n",
        "print(\"Area of the circle:\", circle.area())\n",
        "\n",
        "rectangle = Rectangle(4, 6)\n",
        "print(\"Area of the rectangle:\", rectangle.area())"
      ],
      "metadata": {
        "colab": {
          "base_uri": "https://localhost:8080/"
        },
        "id": "iFiqcanJy1ab",
        "outputId": "062a8436-b5a5-4463-887d-c0ebd0de652a"
      },
      "execution_count": 2,
      "outputs": [
        {
          "output_type": "stream",
          "name": "stdout",
          "text": [
            "Area of the circle: 78.53981633974483\n",
            "Area of the rectangle: 24\n"
          ]
        }
      ]
    },
    {
      "cell_type": "code",
      "source": [
        "#Question 3\n",
        "\n",
        "class Vehicle:\n",
        "    def __init__(self, vehicle_type):\n",
        "        self.vehicle_type = vehicle_type\n",
        "\n",
        "    def display_type(self):\n",
        "        print(f\"Vehicle Type: {self.vehicle_type}\")\n",
        "\n",
        "class Car(Vehicle):\n",
        "    def __init__(self, vehicle_type, brand):\n",
        "        super().__init__(vehicle_type)\n",
        "        self.brand = brand\n",
        "\n",
        "    def display_info(self):\n",
        "        self.display_type()\n",
        "        print(f\"Car Brand: {self.brand}\")\n",
        "\n",
        "\n",
        "class ElectricCar(Car):\n",
        "    def __init__(self, vehicle_type, brand, battery_capacity):\n",
        "        super().__init__(vehicle_type, brand)\n",
        "        self.battery_capacity = battery_capacity\n",
        "\n",
        "    def display_info(self):\n",
        "        super().display_info()\n",
        "        print(f\"Battery Capacity: {self.battery_capacity} kWh\")\n",
        "\n",
        "\n",
        "if __name__ == \"__main__\":\n",
        "    electric_car = ElectricCar(\"Electric\", \"Tesla\", 75)\n",
        "    electric_car.display_info()"
      ],
      "metadata": {
        "colab": {
          "base_uri": "https://localhost:8080/"
        },
        "id": "msP6vWHjzUZs",
        "outputId": "e2004522-e2dc-4306-ce95-c8c8837b14fc"
      },
      "execution_count": 3,
      "outputs": [
        {
          "output_type": "stream",
          "name": "stdout",
          "text": [
            "Vehicle Type: Electric\n",
            "Car Brand: Tesla\n",
            "Battery Capacity: 75 kWh\n"
          ]
        }
      ]
    },
    {
      "cell_type": "code",
      "source": [
        "#Question 4\n",
        "\n",
        "class Vehicle:\n",
        "    def __init__(self, vehicle_type):\n",
        "        self.vehicle_type = vehicle_type\n",
        "\n",
        "    def display_type(self):\n",
        "        print(f\"Vehicle Type: {self.vehicle_type}\")\n",
        "\n",
        "\n",
        "class Car(Vehicle):\n",
        "    def __init__(self, vehicle_type, brand):\n",
        "        super().__init__(vehicle_type)\n",
        "        self.brand = brand\n",
        "\n",
        "    def display_info(self):\n",
        "        self.display_type()\n",
        "        print(f\"Car Brand: {self.brand}\")\n",
        "\n",
        "class ElectricCar(Car):\n",
        "    def __init__(self, vehicle_type, brand, battery_capacity):\n",
        "        super().__init__(vehicle_type, brand)\n",
        "        self.battery_capacity = battery_capacity\n",
        "\n",
        "    def display_info(self):\n",
        "        super().display_info()\n",
        "        print(f\"Battery Capacity: {self.battery_capacity} kWh\")\n",
        "\n",
        "\n",
        "if __name__ == \"__main__\":\n",
        "    electric_car = ElectricCar(\"Electric\", \"Tesla\", 75)\n",
        "    electric_car.display_info()"
      ],
      "metadata": {
        "colab": {
          "base_uri": "https://localhost:8080/"
        },
        "id": "EZshgX360A0a",
        "outputId": "2f98b283-572d-468a-b060-a8ef9d4bce0c"
      },
      "execution_count": 4,
      "outputs": [
        {
          "output_type": "stream",
          "name": "stdout",
          "text": [
            "Vehicle Type: Electric\n",
            "Car Brand: Tesla\n",
            "Battery Capacity: 75 kWh\n"
          ]
        }
      ]
    },
    {
      "cell_type": "code",
      "source": [
        "#Question 5\n",
        "class BankAccount:\n",
        "    def __init__(self):\n",
        "        self.__balance = 0.0\n",
        "    def deposit(self, amount):\n",
        "        if amount > 0:\n",
        "            self.__balance += amount\n",
        "            print(f\"Deposited: ${amount:.2f}\")\n",
        "        else:\n",
        "            print(\"Deposit amount must be positive.\")\n",
        "\n",
        "    def withdraw(self, amount):\n",
        "        if 0 < amount <= self.__balance:\n",
        "            self.__balance -= amount\n",
        "            print(f\"Withdrew: ${amount:.2f}\")\n",
        "        else:\n",
        "            print(\"Insufficient funds or invalid withdrawal amount.\")\n",
        "\n",
        "    def check_balance(self):\n",
        "        print(f\"Current Balance: ${self.__balance:.2f}\")\n",
        "\n",
        "\n",
        "if __name__ == \"__main__\":\n",
        "    account = BankAccount()\n",
        "\n",
        "    account.check_balance()\n",
        "\n",
        "    account.deposit(100)\n",
        "    account.check_balance()\n",
        "\n",
        "    account.withdraw(30)\n",
        "    account.check_balance()\n",
        "\n",
        "    account.withdraw(100)"
      ],
      "metadata": {
        "colab": {
          "base_uri": "https://localhost:8080/"
        },
        "id": "eW0fo0Mm0eaZ",
        "outputId": "913646c7-31c5-458e-c3f1-3d4f709a9e5b"
      },
      "execution_count": 5,
      "outputs": [
        {
          "output_type": "stream",
          "name": "stdout",
          "text": [
            "Current Balance: $0.00\n",
            "Deposited: $100.00\n",
            "Current Balance: $100.00\n",
            "Withdrew: $30.00\n",
            "Current Balance: $70.00\n",
            "Insufficient funds or invalid withdrawal amount.\n"
          ]
        }
      ]
    },
    {
      "cell_type": "code",
      "source": [
        "#Question 6\n",
        "\n",
        "class Instrument:\n",
        "    def play(self):\n",
        "        raise NotImplementedError(\"Subclasses must implement this method\")\n",
        "\n",
        "\n",
        "class Guitar(Instrument):\n",
        "    def play(self):\n",
        "        return \"Strumming the guitar!\"\n",
        "\n",
        "\n",
        "class Piano(Instrument):\n",
        "    def play(self):\n",
        "        return \"Playing the piano!\"\n",
        "\n",
        "\n",
        "def perform(instrument):\n",
        "    print(instrument.play())\n",
        "\n",
        "if __name__ == \"__main__\":\n",
        "    my_guitar = Guitar()\n",
        "    my_piano = Piano()\n",
        "\n",
        "    perform(my_guitar)\n",
        "    perform(my_piano)"
      ],
      "metadata": {
        "colab": {
          "base_uri": "https://localhost:8080/"
        },
        "id": "pY75jpkI05Og",
        "outputId": "07b01f28-1579-4260-b45c-b1174bb37f88"
      },
      "execution_count": 6,
      "outputs": [
        {
          "output_type": "stream",
          "name": "stdout",
          "text": [
            "Strumming the guitar!\n",
            "Playing the piano!\n"
          ]
        }
      ]
    },
    {
      "cell_type": "code",
      "source": [
        "#Question 7\n",
        "class MathOperations:\n",
        "    @classmethod\n",
        "    def add_numbers(cls, a, b):\n",
        "        \"\"\"Class method to add two numbers.\"\"\"\n",
        "        return a + b\n",
        "\n",
        "    @staticmethod\n",
        "    def subtract_numbers(a, b):\n",
        "        \"\"\"Static method to subtract two numbers.\"\"\"\n",
        "        return a - b\n",
        "\n",
        "if __name__ == \"__main__\":\n",
        "\n",
        "    sum_result = MathOperations.add_numbers(10, 5)\n",
        "    print(f\"Sum: {sum_result}\")\n",
        "\n",
        "\n",
        "    difference_result = MathOperations.subtract_numbers(10, 5)\n",
        "    print(f\"Difference: {difference_result}\")"
      ],
      "metadata": {
        "colab": {
          "base_uri": "https://localhost:8080/"
        },
        "id": "R0BCxq061O1d",
        "outputId": "ad2b0057-bb24-4493-dd6f-6a58de4181df"
      },
      "execution_count": 7,
      "outputs": [
        {
          "output_type": "stream",
          "name": "stdout",
          "text": [
            "Sum: 15\n",
            "Difference: 5\n"
          ]
        }
      ]
    },
    {
      "cell_type": "code",
      "source": [
        "#Question 8\n",
        "class Person:\n",
        "    _count = 0\n",
        "\n",
        "    def __init__(self, name):\n",
        "        self.name = name\n",
        "        Person._count += 1\n",
        "\n",
        "    @classmethod\n",
        "    def get_person_count(cls):\n",
        "        \"\"\"Class method to return the total number of Person instances created.\"\"\"\n",
        "        return cls._count\n",
        "\n",
        "\n",
        "if __name__ == \"__main__\":\n",
        "    person1 = Person(\"Alice\")\n",
        "    person2 = Person(\"Bob\")\n",
        "    person3 = Person(\"Charlie\")\n",
        "\n",
        "\n",
        "    total_persons = Person.get_person_count()\n",
        "    print(f\"Total number of persons created: {total_persons}\")"
      ],
      "metadata": {
        "colab": {
          "base_uri": "https://localhost:8080/"
        },
        "id": "WeVa583l1knu",
        "outputId": "0680a9a7-c8ef-430b-de92-e556eff5c6fb"
      },
      "execution_count": 9,
      "outputs": [
        {
          "output_type": "stream",
          "name": "stdout",
          "text": [
            "Total number of persons created: 3\n"
          ]
        }
      ]
    },
    {
      "cell_type": "code",
      "source": [
        "#Question 9\n",
        "class Fraction:\n",
        "    def __init__(self, numerator, denominator):\n",
        "        if denominator == 0:\n",
        "            raise ValueError(\"Denominator cannot be zero.\")\n",
        "        self.numerator = numerator\n",
        "        self.denominator = denominator\n",
        "\n",
        "    def __str__(self):\n",
        "        return f\"{self.numerator}/{self.denominator}\"\n",
        "\n",
        "\n",
        "if __name__ == \"__main__\":\n",
        "    fraction1 = Fraction(3, 4)\n",
        "    fraction2 = Fraction(5, 2)\n",
        "\n",
        "    print(f\"Fraction 1: {fraction1}\")\n",
        "    print(f\"Fraction 2: {fraction2}\")"
      ],
      "metadata": {
        "colab": {
          "base_uri": "https://localhost:8080/"
        },
        "id": "OnII_PNZ2Bot",
        "outputId": "f238daf1-9c23-4037-dc53-6bfc8e31379e"
      },
      "execution_count": 10,
      "outputs": [
        {
          "output_type": "stream",
          "name": "stdout",
          "text": [
            "Fraction 1: 3/4\n",
            "Fraction 2: 5/2\n"
          ]
        }
      ]
    },
    {
      "cell_type": "code",
      "source": [
        "#Question 10\n",
        "class Vector:\n",
        "    def __init__(self, x, y):\n",
        "        self.x = x\n",
        "        self.y = y\n",
        "\n",
        "    def __add__(self, other):\n",
        "        \"\"\"Overload the + operator to add two vectors.\"\"\"\n",
        "        if isinstance(other, Vector):\n",
        "            return Vector(self.x + other.x, self.y + other.y)\n",
        "        return NotImplemented\n",
        "\n",
        "    def __str__(self):\n",
        "        \"\"\"Return a string representation of the vector.\"\"\"\n",
        "        return f\"({self.x}, {self.y})\"\n",
        "\n",
        "\n",
        "if __name__ == \"__main__\":\n",
        "    vector1 = Vector(2, 3)\n",
        "    vector2 = Vector(4, 5)\n",
        "\n",
        "\n",
        "    result_vector = vector1 + vector2\n",
        "\n",
        "    print(f\"Vector 1: {vector1}\")\n",
        "    print(f\"Vector 2: {vector2}\")\n",
        "    print(f\"Resultant Vector: {result_vector}\")"
      ],
      "metadata": {
        "colab": {
          "base_uri": "https://localhost:8080/"
        },
        "id": "FvJG4gl_2Vy3",
        "outputId": "c5c76aa2-b878-4f56-b8ca-2ad838a4606d"
      },
      "execution_count": 11,
      "outputs": [
        {
          "output_type": "stream",
          "name": "stdout",
          "text": [
            "Vector 1: (2, 3)\n",
            "Vector 2: (4, 5)\n",
            "Resultant Vector: (6, 8)\n"
          ]
        }
      ]
    },
    {
      "cell_type": "code",
      "source": [
        "#Question 11\n",
        "class Person:\n",
        "    def __init__(self, name, age):\n",
        "        self.name = name\n",
        "        self.age = age\n",
        "\n",
        "    def greet(self):\n",
        "        \"\"\"Print a greeting message.\"\"\"\n",
        "        print(f\"Hello, my name is {self.name} and I am {self.age} years old.\")\n",
        "\n",
        "\n",
        "if __name__ == \"__main__\":\n",
        "\n",
        "    person1 = Person(\"Alice\", 30)\n",
        "    person2 = Person(\"Bob\", 25)\n",
        "\n",
        "\n",
        "    person1.greet()\n",
        "    person2.greet()"
      ],
      "metadata": {
        "colab": {
          "base_uri": "https://localhost:8080/"
        },
        "id": "x-LlnHXL2tMG",
        "outputId": "0c44b86f-3e9f-4fbc-dfc6-cf1afdbcbc99"
      },
      "execution_count": 12,
      "outputs": [
        {
          "output_type": "stream",
          "name": "stdout",
          "text": [
            "Hello, my name is Alice and I am 30 years old.\n",
            "Hello, my name is Bob and I am 25 years old.\n"
          ]
        }
      ]
    },
    {
      "cell_type": "code",
      "source": [
        "#Question 12\n",
        "class Student:\n",
        "    def __init__(self, name, grades):\n",
        "        self.name = name\n",
        "        self.grades = grades\n",
        "\n",
        "    def average_grade(self):\n",
        "        \"\"\"Compute and return the average of the grades.\"\"\"\n",
        "        if not self.grades:\n",
        "            return 0\n",
        "        return sum(self.grades) / len(self.grades)\n",
        "\n",
        "\n",
        "if __name__ == \"__main__\":\n",
        "\n",
        "    student1 = Student(\"Alice\", [85, 90, 78, 92])\n",
        "    student2 = Student(\"Bob\", [70, 75, 80, 85])\n",
        "\n",
        "    print(f\"{student1.name}'s average grade: {student1.average_grade():.2f}\")\n",
        "    print(f\"{student2.name}'s average grade: {student2.average_grade():.2f}\")"
      ],
      "metadata": {
        "colab": {
          "base_uri": "https://localhost:8080/"
        },
        "id": "qOKuRUIa3Aiu",
        "outputId": "45b0662c-86ce-4992-fcf3-d97abfce3d05"
      },
      "execution_count": 13,
      "outputs": [
        {
          "output_type": "stream",
          "name": "stdout",
          "text": [
            "Alice's average grade: 86.25\n",
            "Bob's average grade: 77.50\n"
          ]
        }
      ]
    },
    {
      "cell_type": "code",
      "source": [
        "#Question 13\n",
        "class Rectangle:\n",
        "    def __init__(self):\n",
        "        self.width = 0\n",
        "        self.height = 0\n",
        "\n",
        "    def set_dimensions(self, width, height):\n",
        "        \"\"\"Set the dimensions of the rectangle.\"\"\"\n",
        "        self.width = width\n",
        "        self.height = height\n",
        "\n",
        "    def area(self):\n",
        "        \"\"\"Calculate and return the area of the rectangle.\"\"\"\n",
        "        return self.width * self.height\n",
        "\n",
        "\n",
        "if __name__ == \"__main__\":\n",
        "    rectangle = Rectangle()\n",
        "\n",
        "    rectangle.set_dimensions(5, 10)\n",
        "\n",
        "    print(f\"Area of the rectangle: {rectangle.area()}\")"
      ],
      "metadata": {
        "colab": {
          "base_uri": "https://localhost:8080/"
        },
        "id": "wbye6h6H3paf",
        "outputId": "20923535-585e-4342-ee0c-4b34d9f7f69f"
      },
      "execution_count": 14,
      "outputs": [
        {
          "output_type": "stream",
          "name": "stdout",
          "text": [
            "Area of the rectangle: 50\n"
          ]
        }
      ]
    },
    {
      "cell_type": "code",
      "source": [
        "#Question 14\n",
        "class Employee:\n",
        "    def __init__(self, name, hours_worked, hourly_rate):\n",
        "        self.name = name\n",
        "        self.hours_worked = hours_worked\n",
        "        self.hourly_rate = hourly_rate\n",
        "\n",
        "    def calculate_salary(self):\n",
        "        \"\"\"Calculate the salary based on hours worked and hourly rate.\"\"\"\n",
        "        return self.hours_worked * self.hourly_rate\n",
        "\n",
        "class Manager(Employee):\n",
        "    def __init__(self, name, hours_worked, hourly_rate, bonus):\n",
        "        super().__init__(name, hours_worked, hourly_rate)\n",
        "        self.bonus = bonus\n",
        "\n",
        "    def calculate_salary(self):\n",
        "        \"\"\"Calculate the salary including the bonus.\"\"\"\n",
        "        base_salary = super().calculate_salary()\n",
        "        return base_salary + self.bonus\n",
        "\n",
        "\n",
        "if __name__ == \"__main__\":\n",
        "\n",
        "    employee = Employee(\"Alice\", 40, 20)\n",
        "    print(f\"{employee.name}'s Salary: ${employee.calculate_salary():.2f}\")\n",
        "\n",
        "\n",
        "    manager = Manager(\"Bob\", 40, 25, 500)\n",
        "    print(f\"{manager.name}'s Salary: ${manager.calculate_salary():.2f}\")"
      ],
      "metadata": {
        "colab": {
          "base_uri": "https://localhost:8080/"
        },
        "id": "G6dsNwux3971",
        "outputId": "54f002f5-1c6f-419f-96ee-5d38ba7c0609"
      },
      "execution_count": 15,
      "outputs": [
        {
          "output_type": "stream",
          "name": "stdout",
          "text": [
            "Alice's Salary: $800.00\n",
            "Bob's Salary: $1500.00\n"
          ]
        }
      ]
    },
    {
      "cell_type": "code",
      "source": [
        "#Question 15\n",
        "class Product:\n",
        "    def __init__(self, name, price, quantity):\n",
        "        self.name = name\n",
        "        self.price = price\n",
        "        self.quantity = quantity\n",
        "\n",
        "    def total_price(self):\n",
        "        \"\"\"Calculate the total price of the product.\"\"\"\n",
        "        return self.price * self.quantity\n",
        "\n",
        "\n",
        "if __name__ == \"__main__\":\n",
        "\n",
        "    product1 = Product(\"Laptop\", 999.99, 3)\n",
        "    product2 = Product(\"Smartphone\", 499.99, 5)\n",
        "\n",
        "    print(f\"Total price of {product1.name}: ${product1.total_price():.2f}\")\n",
        "    print(f\"Total price of {product2.name}: ${product2.total_price():.2f}\")"
      ],
      "metadata": {
        "colab": {
          "base_uri": "https://localhost:8080/"
        },
        "id": "xfzG33Mq4UAa",
        "outputId": "937630de-f152-467f-940b-fd299fc1be0a"
      },
      "execution_count": 16,
      "outputs": [
        {
          "output_type": "stream",
          "name": "stdout",
          "text": [
            "Total price of Laptop: $2999.97\n",
            "Total price of Smartphone: $2499.95\n"
          ]
        }
      ]
    },
    {
      "cell_type": "code",
      "source": [
        "#Question 16\n",
        "from abc import ABC, abstractmethod\n",
        "\n",
        "class Animal(ABC):\n",
        "    @abstractmethod\n",
        "    def sound(self):\n",
        "        \"\"\"Abstract method to be implemented by derived classes.\"\"\"\n",
        "        pass\n",
        "\n",
        "class Cow(Animal):\n",
        "    def sound(self):\n",
        "        return \"Moo\"\n",
        "\n",
        "class Sheep(Animal):\n",
        "    def sound(self):\n",
        "        return \"Baa\"\n",
        "\n",
        "if __name__ == \"__main__\":\n",
        "    cow = Cow()\n",
        "    sheep = Sheep()\n",
        "\n",
        "    print(f\"Cow sound: {cow.sound()}\")\n",
        "    print(f\"Sheep sound: {sheep.sound()}\")"
      ],
      "metadata": {
        "colab": {
          "base_uri": "https://localhost:8080/"
        },
        "id": "L593Igmg4mYh",
        "outputId": "997f9d1b-a980-4d9c-ace1-279cb800f171"
      },
      "execution_count": 17,
      "outputs": [
        {
          "output_type": "stream",
          "name": "stdout",
          "text": [
            "Cow sound: Moo\n",
            "Sheep sound: Baa\n"
          ]
        }
      ]
    },
    {
      "cell_type": "code",
      "source": [
        "class Book:\n",
        "    def __init__(self, title, author, year_published):\n",
        "        self.title = title\n",
        "        self.author = author\n",
        "        self.year_published = year_published\n",
        "\n",
        "    def get_book_info(self):\n",
        "        \"\"\"Return a formatted string with the book's details.\"\"\"\n",
        "        return f\"'{self.title}' by {self.author}, published in {self.year_published}\"\n",
        "\n",
        "\n",
        "if __name__ == \"__main__\":\n",
        "\n",
        "    book1 = Book(\"To Kill a Mockingbird\", \"Harper Lee\", 1960)\n",
        "    book2 = Book(\"1984\", \"George Orwell\", 1949)\n",
        "\n",
        "    print(book1.get_book_info())\n",
        "    print(book2.get_book_info())"
      ],
      "metadata": {
        "colab": {
          "base_uri": "https://localhost:8080/"
        },
        "id": "e8QAoUTQ45w3",
        "outputId": "a5600fd8-49ef-4631-a280-8162be7799e3"
      },
      "execution_count": 18,
      "outputs": [
        {
          "output_type": "stream",
          "name": "stdout",
          "text": [
            "'To Kill a Mockingbird' by Harper Lee, published in 1960\n",
            "'1984' by George Orwell, published in 1949\n"
          ]
        }
      ]
    },
    {
      "cell_type": "code",
      "source": [
        "#Question 18\n",
        "class House:\n",
        "    def __init__(self, address, price):\n",
        "        self.address = address\n",
        "        self.price = price\n",
        "\n",
        "    def get_info(self):\n",
        "        \"\"\"Return a formatted string with the house's details.\"\"\"\n",
        "        return f\"House located at {self.address}, priced at ${self.price:,.2f}\"\n",
        "\n",
        "\n",
        "class Mansion(House):\n",
        "    def __init__(self, address, price, number_of_rooms):\n",
        "        super().__init__(address, price)\n",
        "        self.number_of_rooms = number_of_rooms\n",
        "\n",
        "    def get_info(self):\n",
        "        \"\"\"Return a formatted string with the mansion's details, including the number of rooms.\"\"\"\n",
        "        base_info = super().get_info()\n",
        "        return f\"{base_info}, with {self.number_of_rooms} rooms\"\n",
        "\n",
        "\n",
        "if __name__ == \"__main__\":\n",
        "    house = House(\"123 Main St\", 250000)\n",
        "    print(house.get_info())\n",
        "\n",
        "    mansion = Mansion(\"456 Luxury Ave\", 1500000, 10)\n",
        "    print(mansion.get_info())"
      ],
      "metadata": {
        "colab": {
          "base_uri": "https://localhost:8080/"
        },
        "id": "SS0orIca5Jak",
        "outputId": "8d3f445b-ec37-4b1c-d5b0-6a42392be8bc"
      },
      "execution_count": 23,
      "outputs": [
        {
          "output_type": "stream",
          "name": "stdout",
          "text": [
            "House located at 123 Main St, priced at $250,000.00\n",
            "House located at 456 Luxury Ave, priced at $1,500,000.00, with 10 rooms\n"
          ]
        }
      ]
    }
  ]
}